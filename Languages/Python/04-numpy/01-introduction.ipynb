{
 "cells": [
  {
   "cell_type": "markdown",
   "id": "49bf7e11-7a5b-401c-95c5-8413f0cff604",
   "metadata": {},
   "source": [
    "# Introduction\n",
    "\n",
    "## Getting Started\n",
    "\n",
    "To use numpy, you'll typically start with the following line of code:"
   ]
  },
  {
   "cell_type": "code",
   "execution_count": 1,
   "id": "1574eebb-6657-4cb8-b923-35efc978aa9b",
   "metadata": {},
   "outputs": [],
   "source": [
    "import numpy as np"
   ]
  },
  {
   "cell_type": "markdown",
   "id": "818cd81f-b504-40e1-934a-ce49424810c6",
   "metadata": {},
   "source": [
    "## Creating Data\n",
    "\n",
    "To initialize an array we can use the ```array()``` method passing a list of values:"
   ]
  },
  {
   "cell_type": "code",
   "execution_count": 3,
   "id": "bb745e72-ae25-4d88-ad74-b71e1fdbcbc2",
   "metadata": {},
   "outputs": [
    {
     "data": {
      "text/plain": [
       "array([1, 2, 3])"
      ]
     },
     "execution_count": 3,
     "metadata": {},
     "output_type": "execute_result"
    }
   ],
   "source": [
    "a = np.array([1, 2, 3])\n",
    "a"
   ]
  },
  {
   "cell_type": "markdown",
   "id": "043a5dad-b722-4803-84d0-fbdbe3354dc3",
   "metadata": {},
   "source": [
    "We can also create 2d arrays:"
   ]
  },
  {
   "cell_type": "code",
   "execution_count": 16,
   "id": "c7bcb6ab-0335-47e8-97dc-fa67cbea9f98",
   "metadata": {},
   "outputs": [
    {
     "data": {
      "text/plain": [
       "array([[1., 2., 3.],\n",
       "       [4., 5., 6.]], dtype=float32)"
      ]
     },
     "execution_count": 16,
     "metadata": {},
     "output_type": "execute_result"
    }
   ],
   "source": [
    "b = np.array([[1.0, 2.0, 3.0],[4.0, 5.0, 6.0]], dtype='float32')\n",
    "b"
   ]
  },
  {
   "cell_type": "markdown",
   "id": "11c9615e-a509-44fd-8957-628d84dfefe3",
   "metadata": {},
   "source": [
    "In the example above we also used the ```dtype``` parameter to explicitly set the array type. <br />\n",
    "And you can go on, creating n dimensional arrays. To know that array dimension you can access the ```ndim``` property:"
   ]
  },
  {
   "cell_type": "code",
   "execution_count": 5,
   "id": "79af1196-41c7-43c3-a8bd-f36b8095b0eb",
   "metadata": {},
   "outputs": [
    {
     "data": {
      "text/plain": [
       "2"
      ]
     },
     "execution_count": 5,
     "metadata": {},
     "output_type": "execute_result"
    }
   ],
   "source": [
    "b.ndim"
   ]
  },
  {
   "cell_type": "markdown",
   "id": "b35a6ebf-bec3-42c7-abc2-32e464429845",
   "metadata": {},
   "source": [
    "We can access the ```shape``` property to check the array shape:"
   ]
  },
  {
   "cell_type": "code",
   "execution_count": 6,
   "id": "231d6ef3-5674-435a-a8a5-e461921218bb",
   "metadata": {},
   "outputs": [
    {
     "data": {
      "text/plain": [
       "(2, 3)"
      ]
     },
     "execution_count": 6,
     "metadata": {},
     "output_type": "execute_result"
    }
   ],
   "source": [
    "b.shape"
   ]
  },
  {
   "cell_type": "markdown",
   "id": "1aba71b0-8fbd-407c-bbf2-735e679bc625",
   "metadata": {},
   "source": [
    "Since ```b``` is an array with 2 \"rows\" and 3 \"columns\", it will return a tuple where the first value is the number of \"rows\" and the second value is the number of \"columns\". <br />\n",
    "We can also check the array type accessing the ```dtype``` property:"
   ]
  },
  {
   "cell_type": "code",
   "execution_count": 10,
   "id": "799ddac2-faab-43ea-ade3-8ee8c0d0652b",
   "metadata": {},
   "outputs": [
    {
     "data": {
      "text/plain": [
       "dtype('float32')"
      ]
     },
     "execution_count": 10,
     "metadata": {},
     "output_type": "execute_result"
    }
   ],
   "source": [
    "b.dtype"
   ]
  },
  {
   "cell_type": "markdown",
   "id": "bcfa9b56-0086-4de7-a9ee-9effc557c68c",
   "metadata": {},
   "source": [
    "We can know the sizes of the array by accessing the properties ```itemsize```, ```size``` and ```nbytes```:"
   ]
  },
  {
   "cell_type": "code",
   "execution_count": 17,
   "id": "b4982f59-9047-4324-8d1f-56672db3d964",
   "metadata": {},
   "outputs": [
    {
     "name": "stdout",
     "output_type": "stream",
     "text": [
      "4\n",
      "6\n",
      "24\n",
      "24\n"
     ]
    }
   ],
   "source": [
    "print(b.itemsize)\n",
    "print(b.size)\n",
    "print(b.itemsize * b.size)\n",
    "print(b.nbytes)"
   ]
  },
  {
   "cell_type": "markdown",
   "id": "21957698-4754-4649-8f7d-48c555657c42",
   "metadata": {},
   "source": [
    "<ul>\n",
    "    <li><code>itemsize</code> returns the number of bytes of each item in the array. Since we used <code>float32</code> as the type for our array when we first created it, this value will be 4 (bytes).</li>\n",
    "    <li><code>size</code> returns the total number of items in the array. It will count every single item, including the ones on the inner lists (6 in the example above).</li>\n",
    "    <li><code>nbytes</code> returns the total size of the array, which is the items' size multiplied by the number of items.</li>\n",
    "</ul>"
   ]
  },
  {
   "cell_type": "code",
   "execution_count": null,
   "id": "a2f72bb8-8919-412a-a98b-943dbed97de3",
   "metadata": {},
   "outputs": [],
   "source": []
  }
 ],
 "metadata": {
  "kernelspec": {
   "display_name": "Python 3 (ipykernel)",
   "language": "python",
   "name": "python3"
  },
  "language_info": {
   "codemirror_mode": {
    "name": "ipython",
    "version": 3
   },
   "file_extension": ".py",
   "mimetype": "text/x-python",
   "name": "python",
   "nbconvert_exporter": "python",
   "pygments_lexer": "ipython3",
   "version": "3.11.7"
  }
 },
 "nbformat": 4,
 "nbformat_minor": 5
}
