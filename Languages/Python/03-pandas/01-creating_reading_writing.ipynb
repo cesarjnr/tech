{
 "cells": [
  {
   "cell_type": "markdown",
   "id": "057dc930",
   "metadata": {},
   "source": [
    "# Creating, Reading and Writing\n",
    "\n",
    "## Getting Started\n",
    "\n",
    "To use pandas, you'll typically start with the following line of code:"
   ]
  },
  {
   "cell_type": "code",
   "execution_count": null,
   "id": "4e4e347d",
   "metadata": {},
   "outputs": [],
   "source": [
    "import pandas as pd"
   ]
  },
  {
   "cell_type": "markdown",
   "id": "5436084d",
   "metadata": {},
   "source": [
    "## Creating Data\n",
    "\n",
    "There are two core objects in pandas: the **DataFrame** and the **Series**.\n",
    "\n",
    "### DataFrame\n",
    "\n",
    "A *DataFrame* is a table. It contains an array of individuals entries, each of which has a certain value. Each entry corresponds to a row (or record) and a column.\n",
    "For example, consider the following simple DataFrame:"
   ]
  },
  {
   "cell_type": "code",
   "execution_count": null,
   "id": "3159b93a",
   "metadata": {},
   "outputs": [
    {
     "data": {
      "text/html": [
       "<div>\n",
       "<style scoped>\n",
       "    .dataframe tbody tr th:only-of-type {\n",
       "        vertical-align: middle;\n",
       "    }\n",
       "\n",
       "    .dataframe tbody tr th {\n",
       "        vertical-align: top;\n",
       "    }\n",
       "\n",
       "    .dataframe thead th {\n",
       "        text-align: right;\n",
       "    }\n",
       "</style>\n",
       "<table border=\"1\" class=\"dataframe\">\n",
       "  <thead>\n",
       "    <tr style=\"text-align: right;\">\n",
       "      <th></th>\n",
       "      <th>Yes</th>\n",
       "      <th>No</th>\n",
       "    </tr>\n",
       "  </thead>\n",
       "  <tbody>\n",
       "    <tr>\n",
       "      <th>0</th>\n",
       "      <td>50</td>\n",
       "      <td>131</td>\n",
       "    </tr>\n",
       "    <tr>\n",
       "      <th>1</th>\n",
       "      <td>21</td>\n",
       "      <td>2</td>\n",
       "    </tr>\n",
       "  </tbody>\n",
       "</table>\n",
       "</div>"
      ],
      "text/plain": [
       "   Yes   No\n",
       "0   50  131\n",
       "1   21    2"
      ]
     },
     "execution_count": 2,
     "metadata": {},
     "output_type": "execute_result"
    }
   ],
   "source": [
    "pd.DataFrame({'Yes': [50, 21], 'No': [131, 2]})"
   ]
  },
  {
   "cell_type": "markdown",
   "id": "23354829-2ac2-4797-a378-d69c9469321c",
   "metadata": {},
   "source": [
    "DataFrame entries are not limited to integers. For instance, here's a DataFrame whose values are strings:"
   ]
  },
  {
   "cell_type": "code",
   "execution_count": 3,
   "id": "853ed592-7b1f-463e-8c42-6f4c6937fce5",
   "metadata": {},
   "outputs": [
    {
     "data": {
      "text/html": [
       "<div>\n",
       "<style scoped>\n",
       "    .dataframe tbody tr th:only-of-type {\n",
       "        vertical-align: middle;\n",
       "    }\n",
       "\n",
       "    .dataframe tbody tr th {\n",
       "        vertical-align: top;\n",
       "    }\n",
       "\n",
       "    .dataframe thead th {\n",
       "        text-align: right;\n",
       "    }\n",
       "</style>\n",
       "<table border=\"1\" class=\"dataframe\">\n",
       "  <thead>\n",
       "    <tr style=\"text-align: right;\">\n",
       "      <th></th>\n",
       "      <th>Bob</th>\n",
       "      <th>Sue</th>\n",
       "    </tr>\n",
       "  </thead>\n",
       "  <tbody>\n",
       "    <tr>\n",
       "      <th>0</th>\n",
       "      <td>I liked it.</td>\n",
       "      <td>Pretty good.</td>\n",
       "    </tr>\n",
       "    <tr>\n",
       "      <th>1</th>\n",
       "      <td>It was awful.</td>\n",
       "      <td>Bland.</td>\n",
       "    </tr>\n",
       "  </tbody>\n",
       "</table>\n",
       "</div>"
      ],
      "text/plain": [
       "             Bob           Sue\n",
       "0    I liked it.  Pretty good.\n",
       "1  It was awful.        Bland."
      ]
     },
     "execution_count": 3,
     "metadata": {},
     "output_type": "execute_result"
    }
   ],
   "source": [
    "pd.DataFrame({'Bob': ['I liked it.', 'It was awful.'], 'Sue': ['Pretty good.', 'Bland.']})"
   ]
  },
  {
   "cell_type": "markdown",
   "id": "3159d8c3-d751-41ad-9ef7-0eeb2b75ab96",
   "metadata": {},
   "source": [
    "We are using the ```pd.DataFrame()``` constructor to generate these DataFrame objects. The syntax for declaring a new one is a dictionary whose keys are the column names (Bob and Sue in this example), and whose values are a list of entries. This is the standard way of constructing a new DataFrame, and the one you are most likely to encounter.\n",
    "The dictionary-list constructor assigns values to the *columnn labels*, but just uses an ascending count from 0 (0, 1, 2, 3, ...) for the *row labels*.\n",
    "The list of row labels used in a DataFrame is known as an **Index**. We can assign values to it by using an *index* parameter in our constructor:"
   ]
  },
  {
   "cell_type": "code",
   "execution_count": 4,
   "id": "3093b204-d604-4c37-a98d-e5a794f0a3ac",
   "metadata": {},
   "outputs": [],
   "source": [
    "product_reviews = pd.DataFrame({'Bob': ['I liked it.', 'It was awful.'], 'Sue': ['Pretty good.', 'Bland.']}, index=['Product A', 'Product B'])"
   ]
  },
  {
   "cell_type": "markdown",
   "id": "a4d85f03-b34f-46aa-9eea-67b8c0aa0b15",
   "metadata": {},
   "source": [
    "We can also create a CSV file from this DataFrame by using the ```to_csv()``` method:"
   ]
  },
  {
   "cell_type": "code",
   "execution_count": 5,
   "id": "1bd25641-381c-416f-b5c5-ecf11354a43b",
   "metadata": {},
   "outputs": [],
   "source": [
    "product_reviews.to_csv('product_reviews.csv')"
   ]
  },
  {
   "cell_type": "markdown",
   "id": "4ea30698-4141-4687-9442-823c0b356d5e",
   "metadata": {},
   "source": [
    "### Series\n",
    "\n",
    "A *Series*, by contrast, is a sequence of data values. If a DataFrame is a table, a Series is a list. And in fact you can create one with nothing more than a list:"
   ]
  },
  {
   "cell_type": "code",
   "execution_count": 6,
   "id": "32678cae-0b6f-45d5-913a-3e9b0537323d",
   "metadata": {},
   "outputs": [
    {
     "data": {
      "text/plain": [
       "0    1\n",
       "1    2\n",
       "2    3\n",
       "3    4\n",
       "4    5\n",
       "dtype: int64"
      ]
     },
     "execution_count": 6,
     "metadata": {},
     "output_type": "execute_result"
    }
   ],
   "source": [
    "pd.Series([1, 2, 3, 4, 5])"
   ]
  },
  {
   "cell_type": "markdown",
   "id": "c5d4b484-7fe3-4d1d-b61a-0c601fd6e9f3",
   "metadata": {},
   "source": [
    "A Series is, in essence, a single column of a DataFrame. So you can assign row labels to the Series the same way as before, using an index parameter. However, a Series does not have a colum name, it only has one overall name:"
   ]
  },
  {
   "cell_type": "code",
   "execution_count": 7,
   "id": "3964306d-084f-41c9-bae7-880c7e7abe9a",
   "metadata": {},
   "outputs": [
    {
     "data": {
      "text/plain": [
       "2015 Sales    30\n",
       "2016 Sales    35\n",
       "2017 Sales    40\n",
       "Name: Product A, dtype: int64"
      ]
     },
     "execution_count": 7,
     "metadata": {},
     "output_type": "execute_result"
    }
   ],
   "source": [
    "pd.Series([30, 35, 40], index=['2015 Sales', '2016 Sales', '2017 Sales'], name='Product A')"
   ]
  },
  {
   "cell_type": "markdown",
   "id": "8841cfdd-72c6-4dae-bd60-e31dae6cc496",
   "metadata": {},
   "source": [
    "The Series and the DataFrame are intimately related. It's helpful to think of a DataFrame as actually being just a bunch of Series \"glued together\".\n",
    "\n",
    "## Reading Data Files\n",
    "\n",
    "Data can be stored in any of a number of different forms and formats. By far the most basic of these is the humble CSV file. When you open a CSV file you get something that looks like this:\n",
    "\n",
    "<code>\n",
    "Product A, Product B, Product C, \n",
    "30, 21, 9,\n",
    "35, 34, 1,\n",
    "41, 11, 11\n",
    "</code>\n",
    "\n",
    "So a CSV file is a table of values separated by commas. Hence the name: \"Comma-Separated Values\", or CSV.\n",
    "Let's now see what a real dataset looks like when we read it into a DataFrame. We'll use ```python pd.read_csv()``` function to read the data into a DataFrame."
   ]
  },
  {
   "cell_type": "code",
   "execution_count": 8,
   "id": "8da5ef66-20b9-41b3-82ba-a2426fd46d04",
   "metadata": {},
   "outputs": [],
   "source": [
    "br_small_caps = pd.read_csv('statusinvest-busca-avancada.csv', delimiter=';')"
   ]
  },
  {
   "cell_type": "markdown",
   "id": "7c11d1af-5931-4f53-842f-ce2125879787",
   "metadata": {},
   "source": [
    "Here we're also using the parameter ```delimiter``` to specify the delimiter used by the CSV file.\n",
    "We can use the ```shape``` attribute to check how large the resulting DataFrame is:"
   ]
  },
  {
   "cell_type": "code",
   "execution_count": 9,
   "id": "ffda8ae2-4680-4945-bd87-778757095d7e",
   "metadata": {},
   "outputs": [
    {
     "data": {
      "text/plain": [
       "(56, 30)"
      ]
     },
     "execution_count": 9,
     "metadata": {},
     "output_type": "execute_result"
    }
   ],
   "source": [
    "br_small_caps.shape"
   ]
  },
  {
   "cell_type": "markdown",
   "id": "7b52015a-7d0f-4d5a-87df-561d98908f5d",
   "metadata": {},
   "source": [
    "So our new DataFrame has 56 records split across 30 columns. That's 1680 entries (cells)!\n",
    "We can examine the contents of the resultant DataFrame using the ```head()``` command, which grabs the first five rows:"
   ]
  },
  {
   "cell_type": "code",
   "execution_count": 10,
   "id": "1cd789fa-1ced-4845-b7d4-a515a569cdfc",
   "metadata": {},
   "outputs": [
    {
     "data": {
      "text/html": [
       "<div>\n",
       "<style scoped>\n",
       "    .dataframe tbody tr th:only-of-type {\n",
       "        vertical-align: middle;\n",
       "    }\n",
       "\n",
       "    .dataframe tbody tr th {\n",
       "        vertical-align: top;\n",
       "    }\n",
       "\n",
       "    .dataframe thead th {\n",
       "        text-align: right;\n",
       "    }\n",
       "</style>\n",
       "<table border=\"1\" class=\"dataframe\">\n",
       "  <thead>\n",
       "    <tr style=\"text-align: right;\">\n",
       "      <th></th>\n",
       "      <th>TICKER</th>\n",
       "      <th>PRECO</th>\n",
       "      <th>DY</th>\n",
       "      <th>P/L</th>\n",
       "      <th>P/VP</th>\n",
       "      <th>P/ATIVOS</th>\n",
       "      <th>MARGEM BRUTA</th>\n",
       "      <th>MARGEM EBIT</th>\n",
       "      <th>MARG. LIQUIDA</th>\n",
       "      <th>P/EBIT</th>\n",
       "      <th>...</th>\n",
       "      <th>PATRIMONIO / ATIVOS</th>\n",
       "      <th>PASSIVOS / ATIVOS</th>\n",
       "      <th>GIRO ATIVOS</th>\n",
       "      <th>CAGR RECEITAS 5 ANOS</th>\n",
       "      <th>CAGR LUCROS 5 ANOS</th>\n",
       "      <th>LIQUIDEZ MEDIA DIARIA</th>\n",
       "      <th>VPA</th>\n",
       "      <th>LPA</th>\n",
       "      <th>PEG Ratio</th>\n",
       "      <th>VALOR DE MERCADO</th>\n",
       "    </tr>\n",
       "  </thead>\n",
       "  <tbody>\n",
       "    <tr>\n",
       "      <th>0</th>\n",
       "      <td>AGRO3</td>\n",
       "      <td>27.55</td>\n",
       "      <td>11.66</td>\n",
       "      <td>11.95</td>\n",
       "      <td>1.45</td>\n",
       "      <td>0.85</td>\n",
       "      <td>27.98</td>\n",
       "      <td>15.46</td>\n",
       "      <td>21.58</td>\n",
       "      <td>16.68</td>\n",
       "      <td>...</td>\n",
       "      <td>0.59</td>\n",
       "      <td>0.41</td>\n",
       "      <td>0.33</td>\n",
       "      <td>27.22</td>\n",
       "      <td>13.38</td>\n",
       "      <td>6.609.378.40</td>\n",
       "      <td>19.06</td>\n",
       "      <td>2.31</td>\n",
       "      <td>0.04</td>\n",
       "      <td>2.828.928.882.20</td>\n",
       "    </tr>\n",
       "    <tr>\n",
       "      <th>1</th>\n",
       "      <td>ATOM3</td>\n",
       "      <td>2.03</td>\n",
       "      <td>NaN</td>\n",
       "      <td>2.50</td>\n",
       "      <td>1.23</td>\n",
       "      <td>0.91</td>\n",
       "      <td>91.76</td>\n",
       "      <td>-3.39</td>\n",
       "      <td>84.24</td>\n",
       "      <td>-62.11</td>\n",
       "      <td>...</td>\n",
       "      <td>0.74</td>\n",
       "      <td>0.21</td>\n",
       "      <td>0.43</td>\n",
       "      <td>31.18</td>\n",
       "      <td>22.25</td>\n",
       "      <td>13.557.37</td>\n",
       "      <td>1.65</td>\n",
       "      <td>0.81</td>\n",
       "      <td>0.01</td>\n",
       "      <td>48.323.942.94</td>\n",
       "    </tr>\n",
       "    <tr>\n",
       "      <th>2</th>\n",
       "      <td>BLAU3</td>\n",
       "      <td>11.29</td>\n",
       "      <td>2.48</td>\n",
       "      <td>8.51</td>\n",
       "      <td>1.00</td>\n",
       "      <td>0.64</td>\n",
       "      <td>34.09</td>\n",
       "      <td>22.18</td>\n",
       "      <td>16.14</td>\n",
       "      <td>6.19</td>\n",
       "      <td>...</td>\n",
       "      <td>0.64</td>\n",
       "      <td>0.36</td>\n",
       "      <td>0.47</td>\n",
       "      <td>11.91</td>\n",
       "      <td>14.06</td>\n",
       "      <td>2.278.661.06</td>\n",
       "      <td>11.26</td>\n",
       "      <td>1.33</td>\n",
       "      <td>-0.26</td>\n",
       "      <td>2.025.357.571.31</td>\n",
       "    </tr>\n",
       "    <tr>\n",
       "      <th>3</th>\n",
       "      <td>BOAS3</td>\n",
       "      <td>7.95</td>\n",
       "      <td>NaN</td>\n",
       "      <td>15.22</td>\n",
       "      <td>1.83</td>\n",
       "      <td>1.70</td>\n",
       "      <td>56.53</td>\n",
       "      <td>19.25</td>\n",
       "      <td>32.39</td>\n",
       "      <td>25.60</td>\n",
       "      <td>...</td>\n",
       "      <td>0.93</td>\n",
       "      <td>0.07</td>\n",
       "      <td>0.34</td>\n",
       "      <td>8.81</td>\n",
       "      <td>74.34</td>\n",
       "      <td>53.310.276.50</td>\n",
       "      <td>4.34</td>\n",
       "      <td>0.52</td>\n",
       "      <td>5.59</td>\n",
       "      <td>4.212.250.617.75</td>\n",
       "    </tr>\n",
       "    <tr>\n",
       "      <th>4</th>\n",
       "      <td>BRBI11</td>\n",
       "      <td>14.50</td>\n",
       "      <td>9.10</td>\n",
       "      <td>8.88</td>\n",
       "      <td>1.84</td>\n",
       "      <td>0.14</td>\n",
       "      <td>100.00</td>\n",
       "      <td>8.88</td>\n",
       "      <td>61.44</td>\n",
       "      <td>61.47</td>\n",
       "      <td>...</td>\n",
       "      <td>0.07</td>\n",
       "      <td>0.93</td>\n",
       "      <td>0.02</td>\n",
       "      <td>-16.03</td>\n",
       "      <td>27.88</td>\n",
       "      <td>3.910.827.37</td>\n",
       "      <td>7.87</td>\n",
       "      <td>1.63</td>\n",
       "      <td>0.40</td>\n",
       "      <td>1.522.437.708.00</td>\n",
       "    </tr>\n",
       "  </tbody>\n",
       "</table>\n",
       "<p>5 rows × 30 columns</p>\n",
       "</div>"
      ],
      "text/plain": [
       "   TICKER  PRECO     DY    P/L  P/VP  P/ATIVOS  MARGEM BRUTA  MARGEM EBIT  \\\n",
       "0   AGRO3  27.55  11.66  11.95  1.45      0.85         27.98        15.46   \n",
       "1   ATOM3   2.03    NaN   2.50  1.23      0.91         91.76        -3.39   \n",
       "2   BLAU3  11.29   2.48   8.51  1.00      0.64         34.09        22.18   \n",
       "3   BOAS3   7.95    NaN  15.22  1.83      1.70         56.53        19.25   \n",
       "4  BRBI11  14.50   9.10   8.88  1.84      0.14        100.00         8.88   \n",
       "\n",
       "   MARG. LIQUIDA  P/EBIT  ...  PATRIMONIO / ATIVOS  PASSIVOS / ATIVOS  \\\n",
       "0          21.58   16.68  ...                 0.59               0.41   \n",
       "1          84.24  -62.11  ...                 0.74               0.21   \n",
       "2          16.14    6.19  ...                 0.64               0.36   \n",
       "3          32.39   25.60  ...                 0.93               0.07   \n",
       "4          61.44   61.47  ...                 0.07               0.93   \n",
       "\n",
       "   GIRO ATIVOS  CAGR RECEITAS 5 ANOS  CAGR LUCROS 5 ANOS  \\\n",
       "0         0.33                 27.22               13.38   \n",
       "1         0.43                 31.18               22.25   \n",
       "2         0.47                 11.91               14.06   \n",
       "3         0.34                  8.81               74.34   \n",
       "4         0.02                -16.03               27.88   \n",
       "\n",
       "    LIQUIDEZ MEDIA DIARIA    VPA   LPA   PEG Ratio   VALOR DE MERCADO  \n",
       "0            6.609.378.40  19.06  2.31        0.04   2.828.928.882.20  \n",
       "1               13.557.37   1.65  0.81        0.01      48.323.942.94  \n",
       "2            2.278.661.06  11.26  1.33       -0.26   2.025.357.571.31  \n",
       "3           53.310.276.50   4.34  0.52        5.59   4.212.250.617.75  \n",
       "4            3.910.827.37   7.87  1.63        0.40   1.522.437.708.00  \n",
       "\n",
       "[5 rows x 30 columns]"
      ]
     },
     "execution_count": 10,
     "metadata": {},
     "output_type": "execute_result"
    }
   ],
   "source": [
    "br_small_caps.head()"
   ]
  }
 ],
 "metadata": {
  "kernelspec": {
   "display_name": "Python 3 (ipykernel)",
   "language": "python",
   "name": "python3"
  },
  "language_info": {
   "codemirror_mode": {
    "name": "ipython",
    "version": 3
   },
   "file_extension": ".py",
   "mimetype": "text/x-python",
   "name": "python",
   "nbconvert_exporter": "python",
   "pygments_lexer": "ipython3",
   "version": "3.11.7"
  }
 },
 "nbformat": 4,
 "nbformat_minor": 5
}
